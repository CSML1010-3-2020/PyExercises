{
 "cells": [
  {
   "cell_type": "code",
   "execution_count": 3,
   "metadata": {},
   "outputs": [],
   "source": [
    "# LLN\n",
    "# Homework: Law of Large Numbers\n",
    "# Test the Law of Large Numbers for N random normally distributed numbers withe\n",
    "# mean=0, stdev=1:\n",
    "# \n",
    "# Create a Python script that will count how many of these numbers fall between -1 \n",
    "# and 1 and divide by the total quantity of N\n",
    "#\n",
    "# You know that E(X) = 68.2%\n",
    "# Check that Mean(Xn) -> E(X) as you rerun your script while increasing N"
   ]
  },
  {
   "cell_type": "markdown",
   "metadata": {},
   "source": [
    "---"
   ]
  },
  {
   "cell_type": "code",
   "execution_count": 8,
   "metadata": {},
   "outputs": [
    {
     "name": "stdout",
     "output_type": "stream",
     "text": [
      "For N =  10 , InEX is:  4 Giving a Mean(Xn) =  0.4\n",
      "For N =  100 , InEX is:  80 Giving a Mean(Xn) =  0.8\n",
      "For N =  1000 , InEX is:  762 Giving a Mean(Xn) =  0.762\n",
      "For N =  10000 , InEX is:  7619 Giving a Mean(Xn) =  0.7619\n",
      "For N =  1000000 , InEX is:  690576 Giving a Mean(Xn) =  0.690576\n",
      "For N =  10000000 , InEX is:  7516478 Giving a Mean(Xn) =  0.7516478\n",
      "0.7516478\n"
     ]
    }
   ],
   "source": [
    "# Homework LLN\n",
    "\n",
    "import numpy as np\n",
    "from numpy.random import randn\n",
    "\n",
    "x = None\n",
    "# Count of values that fall between -1 and 1\n",
    "InEX = 0\n",
    "# Number of times the script is run\n",
    "N = None\n",
    "# List of Increasing N values\n",
    "IncreasingN = [10, 100, 1000, 10000, 1000000, 10000000]\n",
    "EX = None\n",
    "\n",
    "for i in IncreasingN:\n",
    "    N = i\n",
    "    for j in range(N):\n",
    "        x = randn()\n",
    "        if ((x > -1) and (x < 1)):\n",
    "            InEX = InEX + 1\n",
    "    EX = InEX / N\n",
    "    print(\"For N = \", N , \", InEX is: \", InEX , \"Giving a Mean(Xn) = \", EX)\n",
    "    \n",
    "print(EX)"
   ]
  },
  {
   "cell_type": "code",
   "execution_count": null,
   "metadata": {},
   "outputs": [],
   "source": []
  }
 ],
 "metadata": {
  "kernelspec": {
   "display_name": "Python 3",
   "language": "python",
   "name": "python3"
  },
  "language_info": {
   "codemirror_mode": {
    "name": "ipython",
    "version": 3
   },
   "file_extension": ".py",
   "mimetype": "text/x-python",
   "name": "python",
   "nbconvert_exporter": "python",
   "pygments_lexer": "ipython3",
   "version": "3.6.5"
  }
 },
 "nbformat": 4,
 "nbformat_minor": 2
}
