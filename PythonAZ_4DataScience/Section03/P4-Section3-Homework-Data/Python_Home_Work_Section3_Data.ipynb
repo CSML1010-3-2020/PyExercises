{
 "cells": [
  {
   "cell_type": "code",
   "execution_count": 7,
   "metadata": {},
   "outputs": [],
   "source": [
    "#Data \n",
    "revenue = [14574.49, 7606.46, 8611.41, 9175.41, 8058.65, 8105.44, 11496.28, 9766.09, 10305.32, 14379.96, 10713.97, 15433.50]\n",
    "expenses = [12051.82, 5695.07, 12319.20, 12089.72, 8658.57, 840.20, 3285.73, 5821.12, 6976.93, 16618.61, 10054.37, 3803.96]"
   ]
  },
  {
   "cell_type": "code",
   "execution_count": 8,
   "metadata": {},
   "outputs": [],
   "source": [
    "# Homework Challenge\n",
    "\n",
    "# Based on revenue and expenses, find the following:\n",
    "#  - profit for each month\n",
    "#  - profit after tax for each month (tax rate of 30%)\n",
    "#  - profit margin for each month - equals to profit after tax divided by revenue\n",
    "#  - good months - where the profit after tax was greater than the mean for the year\n",
    "#  - bad months - where the profit after tax was less than the mean for the year\n",
    "#  - the best month - where the profit after tax was max for the year\n",
    "#  - the worst month - where the profit after tax was min for the year\n",
    "\n",
    "# Present results as vectors (arrays)\n",
    "\n",
    "# Results for dollar values need to be calculated with $0.01 precision, but need to be \n",
    "# presented in Units of $1000 (i.e. 1k) with no decimals points.\n",
    "\n",
    "# Results for the profit margin ratio need to be presented in units of % with no\n",
    "# decimal points.\n",
    "\n",
    "# It is ok for tax for any given month to be negative (in accounting, translates into a deferred tax asset)"
   ]
  },
  {
   "cell_type": "markdown",
   "metadata": {},
   "source": [
    "---"
   ]
  },
  {
   "cell_type": "code",
   "execution_count": 9,
   "metadata": {},
   "outputs": [],
   "source": [
    "import numpy as np"
   ]
  },
  {
   "cell_type": "code",
   "execution_count": 10,
   "metadata": {},
   "outputs": [],
   "source": [
    "# Profit \n",
    "# Profit = revenue - expenses"
   ]
  },
  {
   "cell_type": "code",
   "execution_count": 27,
   "metadata": {},
   "outputs": [
    {
     "data": {
      "text/plain": [
       "[2522.67,\n",
       " 1911.3900000000003,\n",
       " -3707.790000000001,\n",
       " -2914.3099999999995,\n",
       " -599.9200000000001,\n",
       " 7265.24,\n",
       " 8210.550000000001,\n",
       " 3944.9700000000003,\n",
       " 3328.3899999999994,\n",
       " -2238.6500000000015,\n",
       " 659.5999999999985,\n",
       " 11629.54]"
      ]
     },
     "execution_count": 27,
     "metadata": {},
     "output_type": "execute_result"
    }
   ],
   "source": [
    "# Profit for each month - Profit = Revenue - Expenses\n",
    "profit = list([])\n",
    "for i in range(0, len(revenue)):\n",
    "    profit.append(revenue[i] - expenses[i])\n",
    "profit"
   ]
  },
  {
   "cell_type": "code",
   "execution_count": 44,
   "metadata": {},
   "outputs": [
    {
     "data": {
      "text/plain": [
       "[1765.8700000000001,\n",
       " 1337.9700000000003,\n",
       " -2595.4500000000007,\n",
       " -2040.0199999999995,\n",
       " -419.94000000000005,\n",
       " 5085.67,\n",
       " 5747.380000000001,\n",
       " 2761.4800000000005,\n",
       " 2329.8699999999994,\n",
       " -1567.0500000000015,\n",
       " 461.71999999999855,\n",
       " 8140.68,\n",
       " 1236.109,\n",
       " 936.5830000000002,\n",
       " -1816.8130000000006,\n",
       " -1428.0069999999996,\n",
       " -293.964,\n",
       " 3559.968,\n",
       " 4023.165,\n",
       " 1933.0389999999998,\n",
       " 1630.9129999999996,\n",
       " -1096.9350000000009,\n",
       " 323.1999999999989,\n",
       " 5698.478]"
      ]
     },
     "execution_count": 44,
     "metadata": {},
     "output_type": "execute_result"
    }
   ],
   "source": [
    "# Profit for each month after Tax - Profit After Tax = (Revenue - Expenses) * Tax Rate\n",
    "tax = [round(i * 0.3, 2) for i in profit]\n",
    "tax\n",
    "profit_after_tax = list([])\n",
    "\n",
    "for i in range(0, len(profit)):\n",
    "    profit_after_tax.append(profit[i] - tax[i])\n",
    "profit_after_tax"
   ]
  },
  {
   "cell_type": "code",
   "execution_count": null,
   "metadata": {},
   "outputs": [],
   "source": []
  },
  {
   "cell_type": "code",
   "execution_count": 31,
   "metadata": {},
   "outputs": [
    {
     "data": {
      "text/plain": [
       "[0.12116163241389578,\n",
       " 0.1758995643176984,\n",
       " -0.3013969837692086,\n",
       " -0.2223352416949215,\n",
       " -0.05211096151340486,\n",
       " 0.6274388558795081,\n",
       " 0.49993432658216397,\n",
       " 0.2827619856052934,\n",
       " 0.2260844884001661,\n",
       " -0.10897492065346503,\n",
       " 0.04309513653668985,\n",
       " 0.5274680403019406]"
      ]
     },
     "execution_count": 31,
     "metadata": {},
     "output_type": "execute_result"
    }
   ],
   "source": [
    "#  - profit margin for each month - equals to profit after tax divided by revenue\n",
    "profit_margin = [tax]\n",
    "for i in range(0, len(revenue)):\n",
    "    profit_margin.append(((revenue[i] - expenses[i]) * (1-0.3)) / revenue[i])\n",
    "profit_margin"
   ]
  },
  {
   "cell_type": "code",
   "execution_count": 42,
   "metadata": {},
   "outputs": [
    {
     "data": {
      "text/plain": [
       "1750.6813333333332"
      ]
     },
     "execution_count": 42,
     "metadata": {},
     "output_type": "execute_result"
    }
   ],
   "source": [
    "#  - good months - where the profit after tax was greater than the mean for the year\n",
    "import statistics\n",
    "good_months = sum(profit_after_tax) / len(profit_after_tax)\n",
    "good_months \n"
   ]
  },
  {
   "cell_type": "code",
   "execution_count": 33,
   "metadata": {},
   "outputs": [],
   "source": [
    "#  - bad months - where the profit after tax was less than the mean for the year\n"
   ]
  },
  {
   "cell_type": "code",
   "execution_count": 34,
   "metadata": {},
   "outputs": [],
   "source": [
    "#  - the best month - where the profit after tax was max for the year\n"
   ]
  },
  {
   "cell_type": "code",
   "execution_count": 45,
   "metadata": {},
   "outputs": [],
   "source": [
    "#  - the worst month - where the profit after tax was min for the year\n"
   ]
  },
  {
   "cell_type": "markdown",
   "metadata": {},
   "source": [
    "---"
   ]
  },
  {
   "cell_type": "markdown",
   "metadata": {},
   "source": [
    "# Heading 1"
   ]
  },
  {
   "cell_type": "markdown",
   "metadata": {},
   "source": [
    "# Heading 1\n",
    "## Heading 2\n",
    "### Heading 3\n",
    "#### Heading 4\n",
    "##### Heading 5"
   ]
  },
  {
   "cell_type": "code",
   "execution_count": null,
   "metadata": {},
   "outputs": [],
   "source": []
  }
 ],
 "metadata": {
  "kernelspec": {
   "display_name": "Python 3",
   "language": "python",
   "name": "python3"
  },
  "language_info": {
   "codemirror_mode": {
    "name": "ipython",
    "version": 3
   },
   "file_extension": ".py",
   "mimetype": "text/x-python",
   "name": "python",
   "nbconvert_exporter": "python",
   "pygments_lexer": "ipython3",
   "version": "3.6.5"
  }
 },
 "nbformat": 4,
 "nbformat_minor": 1
}
